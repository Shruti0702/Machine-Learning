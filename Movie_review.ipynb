{
 "cells": [
  {
   "cell_type": "code",
   "execution_count": 608,
   "id": "c7d7c5e6",
   "metadata": {},
   "outputs": [],
   "source": [
    "import pandas as pd\n",
    "import numpy as np\n",
    "import sklearn\n",
    "import matplotlib.pyplot as plt\n",
    "import os\n",
    "os.chdir(r\"D:\\Machinelearning\\csv\")"
   ]
  },
  {
   "cell_type": "code",
   "execution_count": 609,
   "id": "5caf75a1",
   "metadata": {},
   "outputs": [],
   "source": [
    "df=pd.read_csv(\"IMDB Dataset.csv\")"
   ]
  },
  {
   "cell_type": "code",
   "execution_count": 610,
   "id": "24a69c50",
   "metadata": {},
   "outputs": [
    {
     "data": {
      "text/html": [
       "<div>\n",
       "<style scoped>\n",
       "    .dataframe tbody tr th:only-of-type {\n",
       "        vertical-align: middle;\n",
       "    }\n",
       "\n",
       "    .dataframe tbody tr th {\n",
       "        vertical-align: top;\n",
       "    }\n",
       "\n",
       "    .dataframe thead th {\n",
       "        text-align: right;\n",
       "    }\n",
       "</style>\n",
       "<table border=\"1\" class=\"dataframe\">\n",
       "  <thead>\n",
       "    <tr style=\"text-align: right;\">\n",
       "      <th></th>\n",
       "      <th>review</th>\n",
       "      <th>sentiment</th>\n",
       "    </tr>\n",
       "  </thead>\n",
       "  <tbody>\n",
       "    <tr>\n",
       "      <th>0</th>\n",
       "      <td>One of the other reviewers has mentioned that ...</td>\n",
       "      <td>positive</td>\n",
       "    </tr>\n",
       "    <tr>\n",
       "      <th>1</th>\n",
       "      <td>A wonderful little production. &lt;br /&gt;&lt;br /&gt;The...</td>\n",
       "      <td>positive</td>\n",
       "    </tr>\n",
       "    <tr>\n",
       "      <th>2</th>\n",
       "      <td>I thought this was a wonderful way to spend ti...</td>\n",
       "      <td>positive</td>\n",
       "    </tr>\n",
       "    <tr>\n",
       "      <th>3</th>\n",
       "      <td>Basically there's a family where a little boy ...</td>\n",
       "      <td>negative</td>\n",
       "    </tr>\n",
       "    <tr>\n",
       "      <th>4</th>\n",
       "      <td>Petter Mattei's \"Love in the Time of Money\" is...</td>\n",
       "      <td>positive</td>\n",
       "    </tr>\n",
       "    <tr>\n",
       "      <th>...</th>\n",
       "      <td>...</td>\n",
       "      <td>...</td>\n",
       "    </tr>\n",
       "    <tr>\n",
       "      <th>49995</th>\n",
       "      <td>I thought this movie did a down right good job...</td>\n",
       "      <td>positive</td>\n",
       "    </tr>\n",
       "    <tr>\n",
       "      <th>49996</th>\n",
       "      <td>Bad plot, bad dialogue, bad acting, idiotic di...</td>\n",
       "      <td>negative</td>\n",
       "    </tr>\n",
       "    <tr>\n",
       "      <th>49997</th>\n",
       "      <td>I am a Catholic taught in parochial elementary...</td>\n",
       "      <td>negative</td>\n",
       "    </tr>\n",
       "    <tr>\n",
       "      <th>49998</th>\n",
       "      <td>I'm going to have to disagree with the previou...</td>\n",
       "      <td>negative</td>\n",
       "    </tr>\n",
       "    <tr>\n",
       "      <th>49999</th>\n",
       "      <td>No one expects the Star Trek movies to be high...</td>\n",
       "      <td>negative</td>\n",
       "    </tr>\n",
       "  </tbody>\n",
       "</table>\n",
       "<p>50000 rows × 2 columns</p>\n",
       "</div>"
      ],
      "text/plain": [
       "                                                  review sentiment\n",
       "0      One of the other reviewers has mentioned that ...  positive\n",
       "1      A wonderful little production. <br /><br />The...  positive\n",
       "2      I thought this was a wonderful way to spend ti...  positive\n",
       "3      Basically there's a family where a little boy ...  negative\n",
       "4      Petter Mattei's \"Love in the Time of Money\" is...  positive\n",
       "...                                                  ...       ...\n",
       "49995  I thought this movie did a down right good job...  positive\n",
       "49996  Bad plot, bad dialogue, bad acting, idiotic di...  negative\n",
       "49997  I am a Catholic taught in parochial elementary...  negative\n",
       "49998  I'm going to have to disagree with the previou...  negative\n",
       "49999  No one expects the Star Trek movies to be high...  negative\n",
       "\n",
       "[50000 rows x 2 columns]"
      ]
     },
     "execution_count": 610,
     "metadata": {},
     "output_type": "execute_result"
    }
   ],
   "source": [
    "df"
   ]
  },
  {
   "cell_type": "markdown",
   "id": "c2e79d92",
   "metadata": {},
   "source": [
    "# Text Cleaning"
   ]
  },
  {
   "cell_type": "markdown",
   "id": "eba3e53b",
   "metadata": {},
   "source": [
    "1.Sample 10000 rows\n",
    "2.remove html tags\n",
    "3.remove special characters\n",
    "4.converting every thing to lower case\n",
    "5.removing stop words\n",
    "6.stemming"
   ]
  },
  {
   "cell_type": "code",
   "execution_count": 611,
   "id": "5ba69a6d",
   "metadata": {},
   "outputs": [],
   "source": [
    "df=df.sample(11000)"
   ]
  },
  {
   "cell_type": "code",
   "execution_count": 612,
   "id": "2f89270e",
   "metadata": {},
   "outputs": [],
   "source": [
    "df['sentiment'].replace({'positive':1,'negative':0},inplace=True)"
   ]
  },
  {
   "cell_type": "code",
   "execution_count": 613,
   "id": "4d7668b2",
   "metadata": {},
   "outputs": [
    {
     "data": {
      "text/html": [
       "<div>\n",
       "<style scoped>\n",
       "    .dataframe tbody tr th:only-of-type {\n",
       "        vertical-align: middle;\n",
       "    }\n",
       "\n",
       "    .dataframe tbody tr th {\n",
       "        vertical-align: top;\n",
       "    }\n",
       "\n",
       "    .dataframe thead th {\n",
       "        text-align: right;\n",
       "    }\n",
       "</style>\n",
       "<table border=\"1\" class=\"dataframe\">\n",
       "  <thead>\n",
       "    <tr style=\"text-align: right;\">\n",
       "      <th></th>\n",
       "      <th>review</th>\n",
       "      <th>sentiment</th>\n",
       "    </tr>\n",
       "  </thead>\n",
       "  <tbody>\n",
       "    <tr>\n",
       "      <th>22457</th>\n",
       "      <td>Brilliant book with wonderful characterization...</td>\n",
       "      <td>0</td>\n",
       "    </tr>\n",
       "    <tr>\n",
       "      <th>42162</th>\n",
       "      <td>I LOVED GOOD TIMES with the rest of many of yo...</td>\n",
       "      <td>1</td>\n",
       "    </tr>\n",
       "    <tr>\n",
       "      <th>21378</th>\n",
       "      <td>As an avid Gone With the Wind fan, I was disap...</td>\n",
       "      <td>0</td>\n",
       "    </tr>\n",
       "    <tr>\n",
       "      <th>16427</th>\n",
       "      <td>It seems like this is the only film that John ...</td>\n",
       "      <td>0</td>\n",
       "    </tr>\n",
       "    <tr>\n",
       "      <th>10801</th>\n",
       "      <td>This in my opinion is one of the best action m...</td>\n",
       "      <td>1</td>\n",
       "    </tr>\n",
       "    <tr>\n",
       "      <th>...</th>\n",
       "      <td>...</td>\n",
       "      <td>...</td>\n",
       "    </tr>\n",
       "    <tr>\n",
       "      <th>6028</th>\n",
       "      <td>For those that are great fans and collectors o...</td>\n",
       "      <td>1</td>\n",
       "    </tr>\n",
       "    <tr>\n",
       "      <th>440</th>\n",
       "      <td>This movie is lame and not funny at all. The p...</td>\n",
       "      <td>0</td>\n",
       "    </tr>\n",
       "    <tr>\n",
       "      <th>714</th>\n",
       "      <td>Perfect movies are rare. Even my favorite film...</td>\n",
       "      <td>1</td>\n",
       "    </tr>\n",
       "    <tr>\n",
       "      <th>31431</th>\n",
       "      <td>The mere fact that I still think of the movie ...</td>\n",
       "      <td>1</td>\n",
       "    </tr>\n",
       "    <tr>\n",
       "      <th>29821</th>\n",
       "      <td>STMD! is one of the most fun and enjoyable low...</td>\n",
       "      <td>1</td>\n",
       "    </tr>\n",
       "  </tbody>\n",
       "</table>\n",
       "<p>11000 rows × 2 columns</p>\n",
       "</div>"
      ],
      "text/plain": [
       "                                                  review  sentiment\n",
       "22457  Brilliant book with wonderful characterization...          0\n",
       "42162  I LOVED GOOD TIMES with the rest of many of yo...          1\n",
       "21378  As an avid Gone With the Wind fan, I was disap...          0\n",
       "16427  It seems like this is the only film that John ...          0\n",
       "10801  This in my opinion is one of the best action m...          1\n",
       "...                                                  ...        ...\n",
       "6028   For those that are great fans and collectors o...          1\n",
       "440    This movie is lame and not funny at all. The p...          0\n",
       "714    Perfect movies are rare. Even my favorite film...          1\n",
       "31431  The mere fact that I still think of the movie ...          1\n",
       "29821  STMD! is one of the most fun and enjoyable low...          1\n",
       "\n",
       "[11000 rows x 2 columns]"
      ]
     },
     "execution_count": 613,
     "metadata": {},
     "output_type": "execute_result"
    }
   ],
   "source": [
    "df"
   ]
  },
  {
   "cell_type": "code",
   "execution_count": 614,
   "id": "b092d4ca",
   "metadata": {},
   "outputs": [],
   "source": [
    "import re"
   ]
  },
  {
   "cell_type": "code",
   "execution_count": 615,
   "id": "4af65b07",
   "metadata": {},
   "outputs": [
    {
     "data": {
      "text/plain": [
       "'As an avid Gone With the Wind fan, I was disappointed to watch the original movie and see that they had left out many important characters. Luckily, the film on its own was a wonderful piece. When the book Scarlett came out, I read it in hopes of following two of my favorite literary characters farther on their journey together. While the book lacks any true quality, it remains a good story, and, as long as I was able to separate it from the original, was and still is enjoyable. However, I consider the six hours I spent watching the \"Scarlett\" miniseries to be some of the worst-spent hours of my life. Discrediting any of the original character traits so well-formed in Margaret Mitchell\\'s book, this series also turned the story of the sequel into one of rape, mistrust, murder, and misformed relationships that even the book Scarlett stayed away from. The casting for many of the characters refused to examine the traits that had been so well-formed in both the original novel and film, and even carried through in the second book, and again leaves out at least one incredibly crucial character. In the novel, Scarlett O\\'Hara Butler follows her estranged husband Rhett Butler to Charleston under the guise of visiting extended family. After coming to an \"arrangement\" with Rhett, she agrees to leave, and proceeds to reconnect with her O\\'Hara relatives in Savannah. Eventually, she accompanies her cousin Colum, a passionate leader of the Fenian Brotherhood, to Ireland, to further explore her family\\'s \"roots that go deep,\" and is eventually named \"The O\\'Hara,\" the head of the family. While her duties as The O\\'Hara keep her engaged in her town of Ballyhara, Scarlett ventures out into the world of the English landowners, and instantly becomes a sought-after guest at many of their parties. She, having been scorned by Rhett time and time again, eventually agrees to marry Luke, the earl of Fenton, until Rhett comes along in a clichéd \"night-on-white-horse\" - type of a rescue. The \"Scarlett\" miniseries fails even to do this justice. Raped by her fiancé and scorned by her family, the series shows Scarlett thrown in jail after she is blamed for a murder her cousin committed.I heartily advise anyone considering spending their day watching this to rethink this decision.'"
      ]
     },
     "execution_count": 615,
     "metadata": {},
     "output_type": "execute_result"
    }
   ],
   "source": [
    "clean=re.compile('<.*?>')\n",
    "re.sub(clean,'',df.iloc[2].review)"
   ]
  },
  {
   "cell_type": "code",
   "execution_count": 616,
   "id": "9cd5916c",
   "metadata": {},
   "outputs": [],
   "source": [
    "def clean_html(text):\n",
    "    clean=re.compile('<.*?>')\n",
    "    return re.sub(clean,'',text)"
   ]
  },
  {
   "cell_type": "code",
   "execution_count": 617,
   "id": "2b21ec0c",
   "metadata": {},
   "outputs": [],
   "source": [
    "df['review']=df['review'].apply(clean_html)"
   ]
  },
  {
   "cell_type": "code",
   "execution_count": 618,
   "id": "75cbe21c",
   "metadata": {},
   "outputs": [],
   "source": [
    "def convert_lower(text):\n",
    "    return text.lower()"
   ]
  },
  {
   "cell_type": "code",
   "execution_count": 619,
   "id": "03c1cd83",
   "metadata": {},
   "outputs": [],
   "source": [
    "df['review']=df['review'].apply(convert_lower)"
   ]
  },
  {
   "cell_type": "code",
   "execution_count": 620,
   "id": "000b744e",
   "metadata": {},
   "outputs": [],
   "source": [
    "#function to remove special characters\n",
    "def remove_special(text):\n",
    "    x=''\n",
    "    for i in text:\n",
    "        if i.isalnum():\n",
    "            x=x+i\n",
    "        else:\n",
    "            x=x+''\n",
    "    return x"
   ]
  },
  {
   "cell_type": "code",
   "execution_count": 621,
   "id": "23b05908",
   "metadata": {},
   "outputs": [],
   "source": [
    "df['review']=df['review'].apply(remove_special)"
   ]
  },
  {
   "cell_type": "code",
   "execution_count": 622,
   "id": "69cae11b",
   "metadata": {},
   "outputs": [],
   "source": [
    "#installing nltk(natural language tool kit)\n",
    "import nltk"
   ]
  },
  {
   "cell_type": "code",
   "execution_count": 623,
   "id": "1092f2c9",
   "metadata": {},
   "outputs": [
    {
     "name": "stderr",
     "output_type": "stream",
     "text": [
      "[nltk_data] Downloading package stopwords to C:\\Users\\Shruti\n",
      "[nltk_data]     Srivastava\\AppData\\Roaming\\nltk_data...\n",
      "[nltk_data]   Package stopwords is already up-to-date!\n"
     ]
    },
    {
     "data": {
      "text/plain": [
       "True"
      ]
     },
     "execution_count": 623,
     "metadata": {},
     "output_type": "execute_result"
    }
   ],
   "source": [
    "nltk.download('stopwords')"
   ]
  },
  {
   "cell_type": "code",
   "execution_count": 624,
   "id": "e1cbde3f",
   "metadata": {},
   "outputs": [],
   "source": [
    "from nltk.corpus import stopwords"
   ]
  },
  {
   "cell_type": "code",
   "execution_count": 625,
   "id": "e43f673a",
   "metadata": {},
   "outputs": [
    {
     "data": {
      "text/plain": [
       "['i',\n",
       " 'me',\n",
       " 'my',\n",
       " 'myself',\n",
       " 'we',\n",
       " 'our',\n",
       " 'ours',\n",
       " 'ourselves',\n",
       " 'you',\n",
       " \"you're\",\n",
       " \"you've\",\n",
       " \"you'll\",\n",
       " \"you'd\",\n",
       " 'your',\n",
       " 'yours',\n",
       " 'yourself',\n",
       " 'yourselves',\n",
       " 'he',\n",
       " 'him',\n",
       " 'his',\n",
       " 'himself',\n",
       " 'she',\n",
       " \"she's\",\n",
       " 'her',\n",
       " 'hers',\n",
       " 'herself',\n",
       " 'it',\n",
       " \"it's\",\n",
       " 'its',\n",
       " 'itself',\n",
       " 'they',\n",
       " 'them',\n",
       " 'their',\n",
       " 'theirs',\n",
       " 'themselves',\n",
       " 'what',\n",
       " 'which',\n",
       " 'who',\n",
       " 'whom',\n",
       " 'this',\n",
       " 'that',\n",
       " \"that'll\",\n",
       " 'these',\n",
       " 'those',\n",
       " 'am',\n",
       " 'is',\n",
       " 'are',\n",
       " 'was',\n",
       " 'were',\n",
       " 'be',\n",
       " 'been',\n",
       " 'being',\n",
       " 'have',\n",
       " 'has',\n",
       " 'had',\n",
       " 'having',\n",
       " 'do',\n",
       " 'does',\n",
       " 'did',\n",
       " 'doing',\n",
       " 'a',\n",
       " 'an',\n",
       " 'the',\n",
       " 'and',\n",
       " 'but',\n",
       " 'if',\n",
       " 'or',\n",
       " 'because',\n",
       " 'as',\n",
       " 'until',\n",
       " 'while',\n",
       " 'of',\n",
       " 'at',\n",
       " 'by',\n",
       " 'for',\n",
       " 'with',\n",
       " 'about',\n",
       " 'against',\n",
       " 'between',\n",
       " 'into',\n",
       " 'through',\n",
       " 'during',\n",
       " 'before',\n",
       " 'after',\n",
       " 'above',\n",
       " 'below',\n",
       " 'to',\n",
       " 'from',\n",
       " 'up',\n",
       " 'down',\n",
       " 'in',\n",
       " 'out',\n",
       " 'on',\n",
       " 'off',\n",
       " 'over',\n",
       " 'under',\n",
       " 'again',\n",
       " 'further',\n",
       " 'then',\n",
       " 'once',\n",
       " 'here',\n",
       " 'there',\n",
       " 'when',\n",
       " 'where',\n",
       " 'why',\n",
       " 'how',\n",
       " 'all',\n",
       " 'any',\n",
       " 'both',\n",
       " 'each',\n",
       " 'few',\n",
       " 'more',\n",
       " 'most',\n",
       " 'other',\n",
       " 'some',\n",
       " 'such',\n",
       " 'no',\n",
       " 'nor',\n",
       " 'not',\n",
       " 'only',\n",
       " 'own',\n",
       " 'same',\n",
       " 'so',\n",
       " 'than',\n",
       " 'too',\n",
       " 'very',\n",
       " 's',\n",
       " 't',\n",
       " 'can',\n",
       " 'will',\n",
       " 'just',\n",
       " 'don',\n",
       " \"don't\",\n",
       " 'should',\n",
       " \"should've\",\n",
       " 'now',\n",
       " 'd',\n",
       " 'll',\n",
       " 'm',\n",
       " 'o',\n",
       " 're',\n",
       " 've',\n",
       " 'y',\n",
       " 'ain',\n",
       " 'aren',\n",
       " \"aren't\",\n",
       " 'couldn',\n",
       " \"couldn't\",\n",
       " 'didn',\n",
       " \"didn't\",\n",
       " 'doesn',\n",
       " \"doesn't\",\n",
       " 'hadn',\n",
       " \"hadn't\",\n",
       " 'hasn',\n",
       " \"hasn't\",\n",
       " 'haven',\n",
       " \"haven't\",\n",
       " 'isn',\n",
       " \"isn't\",\n",
       " 'ma',\n",
       " 'mightn',\n",
       " \"mightn't\",\n",
       " 'mustn',\n",
       " \"mustn't\",\n",
       " 'needn',\n",
       " \"needn't\",\n",
       " 'shan',\n",
       " \"shan't\",\n",
       " 'shouldn',\n",
       " \"shouldn't\",\n",
       " 'wasn',\n",
       " \"wasn't\",\n",
       " 'weren',\n",
       " \"weren't\",\n",
       " 'won',\n",
       " \"won't\",\n",
       " 'wouldn',\n",
       " \"wouldn't\"]"
      ]
     },
     "execution_count": 625,
     "metadata": {},
     "output_type": "execute_result"
    }
   ],
   "source": [
    "stopwords.words('english')"
   ]
  },
  {
   "cell_type": "code",
   "execution_count": 626,
   "id": "f8df4454",
   "metadata": {},
   "outputs": [],
   "source": [
    "def remove_stopwords(text):\n",
    "    x=[]\n",
    "    for i in text.split():#text.split is actually converting that sentence/review into a list of words\n",
    "        if i not in stopwords.words('english'):#stopwords.words('english') actually finds out whether the word is there in stopwords(stopwords such as I,myself,etc.)\n",
    "            x.append(i)\n",
    "    y=x[:]\n",
    "    x.clear()\n",
    "    return y\n",
    "df['review']=df['review'].apply(remove_stopwords)"
   ]
  },
  {
   "cell_type": "code",
   "execution_count": 627,
   "id": "98de9c3b",
   "metadata": {},
   "outputs": [
    {
     "data": {
      "text/html": [
       "<div>\n",
       "<style scoped>\n",
       "    .dataframe tbody tr th:only-of-type {\n",
       "        vertical-align: middle;\n",
       "    }\n",
       "\n",
       "    .dataframe tbody tr th {\n",
       "        vertical-align: top;\n",
       "    }\n",
       "\n",
       "    .dataframe thead th {\n",
       "        text-align: right;\n",
       "    }\n",
       "</style>\n",
       "<table border=\"1\" class=\"dataframe\">\n",
       "  <thead>\n",
       "    <tr style=\"text-align: right;\">\n",
       "      <th></th>\n",
       "      <th>review</th>\n",
       "      <th>sentiment</th>\n",
       "    </tr>\n",
       "  </thead>\n",
       "  <tbody>\n",
       "    <tr>\n",
       "      <th>22457</th>\n",
       "      <td>[brilliantbookwithwonderfulcharacterizationsan...</td>\n",
       "      <td>0</td>\n",
       "    </tr>\n",
       "    <tr>\n",
       "      <th>42162</th>\n",
       "      <td>[ilovedgoodtimeswiththerestofmanyofyouiloverea...</td>\n",
       "      <td>1</td>\n",
       "    </tr>\n",
       "    <tr>\n",
       "      <th>21378</th>\n",
       "      <td>[asanavidgonewiththewindfaniwasdisappointedtow...</td>\n",
       "      <td>0</td>\n",
       "    </tr>\n",
       "    <tr>\n",
       "      <th>16427</th>\n",
       "      <td>[itseemslikethisistheonlyfilmthatjohnsaxonever...</td>\n",
       "      <td>0</td>\n",
       "    </tr>\n",
       "    <tr>\n",
       "      <th>10801</th>\n",
       "      <td>[thisinmyopinionisoneofthebestactionmoviesofth...</td>\n",
       "      <td>1</td>\n",
       "    </tr>\n",
       "    <tr>\n",
       "      <th>...</th>\n",
       "      <td>...</td>\n",
       "      <td>...</td>\n",
       "    </tr>\n",
       "    <tr>\n",
       "      <th>6028</th>\n",
       "      <td>[forthosethataregreatfansandcollectorsofdinosa...</td>\n",
       "      <td>1</td>\n",
       "    </tr>\n",
       "    <tr>\n",
       "      <th>440</th>\n",
       "      <td>[thismovieislameandnotfunnyatalltheplotdoesnte...</td>\n",
       "      <td>0</td>\n",
       "    </tr>\n",
       "    <tr>\n",
       "      <th>714</th>\n",
       "      <td>[perfectmoviesarerareevenmyfavoritefilmstendto...</td>\n",
       "      <td>1</td>\n",
       "    </tr>\n",
       "    <tr>\n",
       "      <th>31431</th>\n",
       "      <td>[themerefactthatistillthinkofthemovieadecadela...</td>\n",
       "      <td>1</td>\n",
       "    </tr>\n",
       "    <tr>\n",
       "      <th>29821</th>\n",
       "      <td>[stmdisoneofthemostfunandenjoyablelowbudgetfil...</td>\n",
       "      <td>1</td>\n",
       "    </tr>\n",
       "  </tbody>\n",
       "</table>\n",
       "<p>11000 rows × 2 columns</p>\n",
       "</div>"
      ],
      "text/plain": [
       "                                                  review  sentiment\n",
       "22457  [brilliantbookwithwonderfulcharacterizationsan...          0\n",
       "42162  [ilovedgoodtimeswiththerestofmanyofyouiloverea...          1\n",
       "21378  [asanavidgonewiththewindfaniwasdisappointedtow...          0\n",
       "16427  [itseemslikethisistheonlyfilmthatjohnsaxonever...          0\n",
       "10801  [thisinmyopinionisoneofthebestactionmoviesofth...          1\n",
       "...                                                  ...        ...\n",
       "6028   [forthosethataregreatfansandcollectorsofdinosa...          1\n",
       "440    [thismovieislameandnotfunnyatalltheplotdoesnte...          0\n",
       "714    [perfectmoviesarerareevenmyfavoritefilmstendto...          1\n",
       "31431  [themerefactthatistillthinkofthemovieadecadela...          1\n",
       "29821  [stmdisoneofthemostfunandenjoyablelowbudgetfil...          1\n",
       "\n",
       "[11000 rows x 2 columns]"
      ]
     },
     "execution_count": 627,
     "metadata": {},
     "output_type": "execute_result"
    }
   ],
   "source": [
    "df"
   ]
  },
  {
   "cell_type": "code",
   "execution_count": 628,
   "id": "617e833c",
   "metadata": {},
   "outputs": [],
   "source": [
    "from nltk.stem.porter import PorterStemmer\n",
    "ps=PorterStemmer()"
   ]
  },
  {
   "cell_type": "code",
   "execution_count": 629,
   "id": "88b16e9f",
   "metadata": {},
   "outputs": [],
   "source": [
    "\n",
    "def stem_words(text):\n",
    "    y=[]\n",
    "    for i in text:\n",
    "        y.append(ps.stem(i))\n",
    "    z=y[:]\n",
    "    y.clear()\n",
    "    return z"
   ]
  },
  {
   "cell_type": "code",
   "execution_count": 630,
   "id": "529aaabd",
   "metadata": {},
   "outputs": [],
   "source": [
    "df['review']=df['review'].apply(stem_words)"
   ]
  },
  {
   "cell_type": "code",
   "execution_count": 631,
   "id": "59df98cc",
   "metadata": {},
   "outputs": [
    {
     "data": {
      "text/html": [
       "<div>\n",
       "<style scoped>\n",
       "    .dataframe tbody tr th:only-of-type {\n",
       "        vertical-align: middle;\n",
       "    }\n",
       "\n",
       "    .dataframe tbody tr th {\n",
       "        vertical-align: top;\n",
       "    }\n",
       "\n",
       "    .dataframe thead th {\n",
       "        text-align: right;\n",
       "    }\n",
       "</style>\n",
       "<table border=\"1\" class=\"dataframe\">\n",
       "  <thead>\n",
       "    <tr style=\"text-align: right;\">\n",
       "      <th></th>\n",
       "      <th>review</th>\n",
       "      <th>sentiment</th>\n",
       "    </tr>\n",
       "  </thead>\n",
       "  <tbody>\n",
       "    <tr>\n",
       "      <th>22457</th>\n",
       "      <td>[brilliantbookwithwonderfulcharacterizationsan...</td>\n",
       "      <td>0</td>\n",
       "    </tr>\n",
       "    <tr>\n",
       "      <th>42162</th>\n",
       "      <td>[ilovedgoodtimeswiththerestofmanyofyouiloverea...</td>\n",
       "      <td>1</td>\n",
       "    </tr>\n",
       "    <tr>\n",
       "      <th>21378</th>\n",
       "      <td>[asanavidgonewiththewindfaniwasdisappointedtow...</td>\n",
       "      <td>0</td>\n",
       "    </tr>\n",
       "    <tr>\n",
       "      <th>16427</th>\n",
       "      <td>[itseemslikethisistheonlyfilmthatjohnsaxonever...</td>\n",
       "      <td>0</td>\n",
       "    </tr>\n",
       "    <tr>\n",
       "      <th>10801</th>\n",
       "      <td>[thisinmyopinionisoneofthebestactionmoviesofth...</td>\n",
       "      <td>1</td>\n",
       "    </tr>\n",
       "    <tr>\n",
       "      <th>...</th>\n",
       "      <td>...</td>\n",
       "      <td>...</td>\n",
       "    </tr>\n",
       "    <tr>\n",
       "      <th>6028</th>\n",
       "      <td>[forthosethataregreatfansandcollectorsofdinosa...</td>\n",
       "      <td>1</td>\n",
       "    </tr>\n",
       "    <tr>\n",
       "      <th>440</th>\n",
       "      <td>[thismovieislameandnotfunnyatalltheplotdoesnte...</td>\n",
       "      <td>0</td>\n",
       "    </tr>\n",
       "    <tr>\n",
       "      <th>714</th>\n",
       "      <td>[perfectmoviesarerareevenmyfavoritefilmstendto...</td>\n",
       "      <td>1</td>\n",
       "    </tr>\n",
       "    <tr>\n",
       "      <th>31431</th>\n",
       "      <td>[themerefactthatistillthinkofthemovieadecadela...</td>\n",
       "      <td>1</td>\n",
       "    </tr>\n",
       "    <tr>\n",
       "      <th>29821</th>\n",
       "      <td>[stmdisoneofthemostfunandenjoyablelowbudgetfil...</td>\n",
       "      <td>1</td>\n",
       "    </tr>\n",
       "  </tbody>\n",
       "</table>\n",
       "<p>11000 rows × 2 columns</p>\n",
       "</div>"
      ],
      "text/plain": [
       "                                                  review  sentiment\n",
       "22457  [brilliantbookwithwonderfulcharacterizationsan...          0\n",
       "42162  [ilovedgoodtimeswiththerestofmanyofyouiloverea...          1\n",
       "21378  [asanavidgonewiththewindfaniwasdisappointedtow...          0\n",
       "16427  [itseemslikethisistheonlyfilmthatjohnsaxonever...          0\n",
       "10801  [thisinmyopinionisoneofthebestactionmoviesofth...          1\n",
       "...                                                  ...        ...\n",
       "6028   [forthosethataregreatfansandcollectorsofdinosa...          1\n",
       "440    [thismovieislameandnotfunnyatalltheplotdoesnte...          0\n",
       "714    [perfectmoviesarerareevenmyfavoritefilmstendto...          1\n",
       "31431  [themerefactthatistillthinkofthemovieadecadela...          1\n",
       "29821  [stmdisoneofthemostfunandenjoyablelowbudgetfil...          1\n",
       "\n",
       "[11000 rows x 2 columns]"
      ]
     },
     "execution_count": 631,
     "metadata": {},
     "output_type": "execute_result"
    }
   ],
   "source": [
    "df"
   ]
  },
  {
   "cell_type": "code",
   "execution_count": 632,
   "id": "baf63bf8",
   "metadata": {},
   "outputs": [],
   "source": [
    "def join_back(list_input):\n",
    "    return \" \".join(list_input)\n",
    "df['review']=df['review'].apply(join_back)"
   ]
  },
  {
   "cell_type": "code",
   "execution_count": 633,
   "id": "5a5cb822",
   "metadata": {},
   "outputs": [
    {
     "data": {
      "text/html": [
       "<div>\n",
       "<style scoped>\n",
       "    .dataframe tbody tr th:only-of-type {\n",
       "        vertical-align: middle;\n",
       "    }\n",
       "\n",
       "    .dataframe tbody tr th {\n",
       "        vertical-align: top;\n",
       "    }\n",
       "\n",
       "    .dataframe thead th {\n",
       "        text-align: right;\n",
       "    }\n",
       "</style>\n",
       "<table border=\"1\" class=\"dataframe\">\n",
       "  <thead>\n",
       "    <tr style=\"text-align: right;\">\n",
       "      <th></th>\n",
       "      <th>review</th>\n",
       "      <th>sentiment</th>\n",
       "    </tr>\n",
       "  </thead>\n",
       "  <tbody>\n",
       "    <tr>\n",
       "      <th>22457</th>\n",
       "      <td>brilliantbookwithwonderfulcharacterizationsand...</td>\n",
       "      <td>0</td>\n",
       "    </tr>\n",
       "    <tr>\n",
       "      <th>42162</th>\n",
       "      <td>ilovedgoodtimeswiththerestofmanyofyouiloveread...</td>\n",
       "      <td>1</td>\n",
       "    </tr>\n",
       "    <tr>\n",
       "      <th>21378</th>\n",
       "      <td>asanavidgonewiththewindfaniwasdisappointedtowa...</td>\n",
       "      <td>0</td>\n",
       "    </tr>\n",
       "    <tr>\n",
       "      <th>16427</th>\n",
       "      <td>itseemslikethisistheonlyfilmthatjohnsaxoneverd...</td>\n",
       "      <td>0</td>\n",
       "    </tr>\n",
       "    <tr>\n",
       "      <th>10801</th>\n",
       "      <td>thisinmyopinionisoneofthebestactionmoviesofthe...</td>\n",
       "      <td>1</td>\n",
       "    </tr>\n",
       "    <tr>\n",
       "      <th>...</th>\n",
       "      <td>...</td>\n",
       "      <td>...</td>\n",
       "    </tr>\n",
       "    <tr>\n",
       "      <th>6028</th>\n",
       "      <td>forthosethataregreatfansandcollectorsofdinosau...</td>\n",
       "      <td>1</td>\n",
       "    </tr>\n",
       "    <tr>\n",
       "      <th>440</th>\n",
       "      <td>thismovieislameandnotfunnyatalltheplotdoesntev...</td>\n",
       "      <td>0</td>\n",
       "    </tr>\n",
       "    <tr>\n",
       "      <th>714</th>\n",
       "      <td>perfectmoviesarerareevenmyfavoritefilmstendtoh...</td>\n",
       "      <td>1</td>\n",
       "    </tr>\n",
       "    <tr>\n",
       "      <th>31431</th>\n",
       "      <td>themerefactthatistillthinkofthemovieadecadelat...</td>\n",
       "      <td>1</td>\n",
       "    </tr>\n",
       "    <tr>\n",
       "      <th>29821</th>\n",
       "      <td>stmdisoneofthemostfunandenjoyablelowbudgetfilm...</td>\n",
       "      <td>1</td>\n",
       "    </tr>\n",
       "  </tbody>\n",
       "</table>\n",
       "<p>11000 rows × 2 columns</p>\n",
       "</div>"
      ],
      "text/plain": [
       "                                                  review  sentiment\n",
       "22457  brilliantbookwithwonderfulcharacterizationsand...          0\n",
       "42162  ilovedgoodtimeswiththerestofmanyofyouiloveread...          1\n",
       "21378  asanavidgonewiththewindfaniwasdisappointedtowa...          0\n",
       "16427  itseemslikethisistheonlyfilmthatjohnsaxoneverd...          0\n",
       "10801  thisinmyopinionisoneofthebestactionmoviesofthe...          1\n",
       "...                                                  ...        ...\n",
       "6028   forthosethataregreatfansandcollectorsofdinosau...          1\n",
       "440    thismovieislameandnotfunnyatalltheplotdoesntev...          0\n",
       "714    perfectmoviesarerareevenmyfavoritefilmstendtoh...          1\n",
       "31431  themerefactthatistillthinkofthemovieadecadelat...          1\n",
       "29821  stmdisoneofthemostfunandenjoyablelowbudgetfilm...          1\n",
       "\n",
       "[11000 rows x 2 columns]"
      ]
     },
     "execution_count": 633,
     "metadata": {},
     "output_type": "execute_result"
    }
   ],
   "source": [
    "df"
   ]
  },
  {
   "cell_type": "code",
   "execution_count": 634,
   "id": "6fd7d9ce",
   "metadata": {},
   "outputs": [],
   "source": [
    "from sklearn.feature_extraction.text import CountVectorizer\n",
    "cv=CountVectorizer()"
   ]
  },
  {
   "cell_type": "code",
   "execution_count": 635,
   "id": "65d3784a",
   "metadata": {},
   "outputs": [],
   "source": [
    "x=cv.fit_transform(df['review']).toarray()"
   ]
  },
  {
   "cell_type": "code",
   "execution_count": 636,
   "id": "bb9f89c1",
   "metadata": {},
   "outputs": [
    {
     "data": {
      "text/plain": [
       "(11000, 10983)"
      ]
     },
     "execution_count": 636,
     "metadata": {},
     "output_type": "execute_result"
    }
   ],
   "source": [
    "x.shape"
   ]
  },
  {
   "cell_type": "code",
   "execution_count": 637,
   "id": "0c0b8d0e",
   "metadata": {},
   "outputs": [],
   "source": [
    "y=df.iloc[:,-1].values"
   ]
  },
  {
   "cell_type": "code",
   "execution_count": 638,
   "id": "cee11a44",
   "metadata": {},
   "outputs": [],
   "source": [
    "#splitting the dataset into training and testing\n",
    "from sklearn.model_selection import train_test_split\n",
    "x_train,x_test,y_train,y_test=train_test_split(x,y,test_size=0.20,random_state=1)"
   ]
  },
  {
   "cell_type": "code",
   "execution_count": 639,
   "id": "89ee6083",
   "metadata": {},
   "outputs": [],
   "source": [
    "from sklearn.naive_bayes import GaussianNB,MultinomialNB,BernoulliNB"
   ]
  },
  {
   "cell_type": "code",
   "execution_count": 640,
   "id": "367733ea",
   "metadata": {},
   "outputs": [],
   "source": [
    "clf1=GaussianNB()\n",
    "clf2=MultinomialNB()\n",
    "clf3=BernoulliNB()"
   ]
  },
  {
   "cell_type": "code",
   "execution_count": 641,
   "id": "9a5ac762",
   "metadata": {},
   "outputs": [
    {
     "data": {
      "text/html": [
       "<style>#sk-container-id-12 {color: black;background-color: white;}#sk-container-id-12 pre{padding: 0;}#sk-container-id-12 div.sk-toggleable {background-color: white;}#sk-container-id-12 label.sk-toggleable__label {cursor: pointer;display: block;width: 100%;margin-bottom: 0;padding: 0.3em;box-sizing: border-box;text-align: center;}#sk-container-id-12 label.sk-toggleable__label-arrow:before {content: \"▸\";float: left;margin-right: 0.25em;color: #696969;}#sk-container-id-12 label.sk-toggleable__label-arrow:hover:before {color: black;}#sk-container-id-12 div.sk-estimator:hover label.sk-toggleable__label-arrow:before {color: black;}#sk-container-id-12 div.sk-toggleable__content {max-height: 0;max-width: 0;overflow: hidden;text-align: left;background-color: #f0f8ff;}#sk-container-id-12 div.sk-toggleable__content pre {margin: 0.2em;color: black;border-radius: 0.25em;background-color: #f0f8ff;}#sk-container-id-12 input.sk-toggleable__control:checked~div.sk-toggleable__content {max-height: 200px;max-width: 100%;overflow: auto;}#sk-container-id-12 input.sk-toggleable__control:checked~label.sk-toggleable__label-arrow:before {content: \"▾\";}#sk-container-id-12 div.sk-estimator input.sk-toggleable__control:checked~label.sk-toggleable__label {background-color: #d4ebff;}#sk-container-id-12 div.sk-label input.sk-toggleable__control:checked~label.sk-toggleable__label {background-color: #d4ebff;}#sk-container-id-12 input.sk-hidden--visually {border: 0;clip: rect(1px 1px 1px 1px);clip: rect(1px, 1px, 1px, 1px);height: 1px;margin: -1px;overflow: hidden;padding: 0;position: absolute;width: 1px;}#sk-container-id-12 div.sk-estimator {font-family: monospace;background-color: #f0f8ff;border: 1px dotted black;border-radius: 0.25em;box-sizing: border-box;margin-bottom: 0.5em;}#sk-container-id-12 div.sk-estimator:hover {background-color: #d4ebff;}#sk-container-id-12 div.sk-parallel-item::after {content: \"\";width: 100%;border-bottom: 1px solid gray;flex-grow: 1;}#sk-container-id-12 div.sk-label:hover label.sk-toggleable__label {background-color: #d4ebff;}#sk-container-id-12 div.sk-serial::before {content: \"\";position: absolute;border-left: 1px solid gray;box-sizing: border-box;top: 0;bottom: 0;left: 50%;z-index: 0;}#sk-container-id-12 div.sk-serial {display: flex;flex-direction: column;align-items: center;background-color: white;padding-right: 0.2em;padding-left: 0.2em;position: relative;}#sk-container-id-12 div.sk-item {position: relative;z-index: 1;}#sk-container-id-12 div.sk-parallel {display: flex;align-items: stretch;justify-content: center;background-color: white;position: relative;}#sk-container-id-12 div.sk-item::before, #sk-container-id-12 div.sk-parallel-item::before {content: \"\";position: absolute;border-left: 1px solid gray;box-sizing: border-box;top: 0;bottom: 0;left: 50%;z-index: -1;}#sk-container-id-12 div.sk-parallel-item {display: flex;flex-direction: column;z-index: 1;position: relative;background-color: white;}#sk-container-id-12 div.sk-parallel-item:first-child::after {align-self: flex-end;width: 50%;}#sk-container-id-12 div.sk-parallel-item:last-child::after {align-self: flex-start;width: 50%;}#sk-container-id-12 div.sk-parallel-item:only-child::after {width: 0;}#sk-container-id-12 div.sk-dashed-wrapped {border: 1px dashed gray;margin: 0 0.4em 0.5em 0.4em;box-sizing: border-box;padding-bottom: 0.4em;background-color: white;}#sk-container-id-12 div.sk-label label {font-family: monospace;font-weight: bold;display: inline-block;line-height: 1.2em;}#sk-container-id-12 div.sk-label-container {text-align: center;}#sk-container-id-12 div.sk-container {/* jupyter's `normalize.less` sets `[hidden] { display: none; }` but bootstrap.min.css set `[hidden] { display: none !important; }` so we also need the `!important` here to be able to override the default hidden behavior on the sphinx rendered scikit-learn.org. See: https://github.com/scikit-learn/scikit-learn/issues/21755 */display: inline-block !important;position: relative;}#sk-container-id-12 div.sk-text-repr-fallback {display: none;}</style><div id=\"sk-container-id-12\" class=\"sk-top-container\"><div class=\"sk-text-repr-fallback\"><pre>BernoulliNB()</pre><b>In a Jupyter environment, please rerun this cell to show the HTML representation or trust the notebook. <br />On GitHub, the HTML representation is unable to render, please try loading this page with nbviewer.org.</b></div><div class=\"sk-container\" hidden><div class=\"sk-item\"><div class=\"sk-estimator sk-toggleable\"><input class=\"sk-toggleable__control sk-hidden--visually\" id=\"sk-estimator-id-12\" type=\"checkbox\" checked><label for=\"sk-estimator-id-12\" class=\"sk-toggleable__label sk-toggleable__label-arrow\">BernoulliNB</label><div class=\"sk-toggleable__content\"><pre>BernoulliNB()</pre></div></div></div></div></div>"
      ],
      "text/plain": [
       "BernoulliNB()"
      ]
     },
     "execution_count": 641,
     "metadata": {},
     "output_type": "execute_result"
    }
   ],
   "source": [
    "clf1.fit(x_train,y_train)#training the model for Normal distribution\n",
    "clf2.fit(x_train,y_train)#training the model for Bernoulli distribution\n",
    "clf3.fit(x_train,y_train)#training the model for Multinomialdistribution"
   ]
  },
  {
   "cell_type": "code",
   "execution_count": 642,
   "id": "4ef0d243",
   "metadata": {},
   "outputs": [],
   "source": [
    "y_pred1=clf1.predict(x_test)\n",
    "y_pred2=clf2.predict(x_test)\n",
    "y_pred3=clf3.predict(x_test)"
   ]
  },
  {
   "cell_type": "code",
   "execution_count": 643,
   "id": "17c14eeb",
   "metadata": {},
   "outputs": [
    {
     "name": "stdout",
     "output_type": "stream",
     "text": [
      "Accuracy when data is GaussianNB 50.13636363636363\n",
      "Accuracy when data is MultiNomialNB 50.0\n",
      "Accuracy when data is BernoulliNB 50.0\n"
     ]
    }
   ],
   "source": [
    "from sklearn.metrics import accuracy_score\n",
    "print(\"Accuracy when data is GaussianNB\",accuracy_score(y_pred1,y_test)*100)\n",
    "print(\"Accuracy when data is MultiNomialNB\",accuracy_score(y_pred2,y_test)*100)\n",
    "print(\"Accuracy when data is BernoulliNB\",accuracy_score(y_pred3,y_test)*100)\n"
   ]
  },
  {
   "cell_type": "code",
   "execution_count": 644,
   "id": "a02d1f93",
   "metadata": {},
   "outputs": [
    {
     "name": "stdout",
     "output_type": "stream",
     "text": [
      "[0]\n"
     ]
    }
   ],
   "source": [
    "movie_review_array=np.array(['Movie was shitty'])\n",
    "movie_review_vector=cv.transform(movie_review_array).toarray()\n",
    "print(clf2.predict(movie_review_vector))"
   ]
  },
  {
   "cell_type": "code",
   "execution_count": null,
   "id": "45f3f747",
   "metadata": {},
   "outputs": [],
   "source": []
  }
 ],
 "metadata": {
  "kernelspec": {
   "display_name": "Python 3 (ipykernel)",
   "language": "python",
   "name": "python3"
  },
  "language_info": {
   "codemirror_mode": {
    "name": "ipython",
    "version": 3
   },
   "file_extension": ".py",
   "mimetype": "text/x-python",
   "name": "python",
   "nbconvert_exporter": "python",
   "pygments_lexer": "ipython3",
   "version": "3.10.6"
  }
 },
 "nbformat": 4,
 "nbformat_minor": 5
}
