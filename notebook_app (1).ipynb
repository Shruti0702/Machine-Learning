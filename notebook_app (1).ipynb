{
 "metadata": {
  "kernelspec": {
   "display_name": "Streamlit Notebook",
   "name": "streamlit"
  }
 },
 "nbformat_minor": 5,
 "nbformat": 4,
 "cells": [
  {
   "cell_type": "code",
   "id": "3775908f-ca36-4846-8f38-5adca39217f2",
   "metadata": {
    "language": "python",
    "name": "cell1",
    "collapsed": false
   },
   "source": "\nimport streamlit as st\nimport pandas as pd\nimport numpy as np\nimport matplotlib.pyplot as plt\nimport seaborn as sns\nimport sklearn\n\n# We can also use Snowpark for our analyses!\nfrom snowflake.snowpark.context import get_active_session\nsession = get_active_session()",
   "execution_count": null,
   "outputs": []
  },
  {
   "cell_type": "code",
   "id": "cc7cb231-37a5-4b94-b02a-db397593f3b1",
   "metadata": {
    "language": "python",
    "name": "cell2"
   },
   "outputs": [],
   "source": "df=session.table(\"NPS_SCORE.NPS_SCORE.NPS_SCORE\")\ndf",
   "execution_count": null
  },
  {
   "cell_type": "code",
   "id": "b1e84f13-78eb-4af8-8643-f8e3703d83ec",
   "metadata": {
    "language": "python",
    "name": "cell3"
   },
   "outputs": [],
   "source": "dataset=df.to_pandas()",
   "execution_count": null
  },
  {
   "cell_type": "code",
   "id": "8d690b3c-8a79-4884-a787-a991cf03023c",
   "metadata": {
    "language": "python",
    "name": "cell4",
    "collapsed": false
   },
   "outputs": [],
   "source": "dataset.isnull().sum()",
   "execution_count": null
  },
  {
   "cell_type": "code",
   "id": "d3f7f1a9-1109-426c-a842-5f57ba837dff",
   "metadata": {
    "language": "python",
    "name": "cell5",
    "collapsed": false
   },
   "outputs": [],
   "source": "dataset.dropna(how='any',inplace=True)",
   "execution_count": null
  },
  {
   "cell_type": "code",
   "id": "94cc9793-34cd-46d7-a6ec-efbe6089190d",
   "metadata": {
    "language": "python",
    "name": "cell6",
    "collapsed": false
   },
   "outputs": [],
   "source": "dataset.isnull().sum()",
   "execution_count": null
  },
  {
   "cell_type": "code",
   "id": "aa69fb98-a411-4301-8f1b-8049e366f384",
   "metadata": {
    "language": "python",
    "name": "cell7",
    "collapsed": false
   },
   "outputs": [],
   "source": "from sklearn import preprocessing \nlabel_encoder = preprocessing.LabelEncoder()\ndataset['PRODUCT_NAME']= label_encoder.fit_transform(dataset['PRODUCT_NAME']) \ndataset['PRODUCT_CATEGORY']= label_encoder.fit_transform(dataset['PRODUCT_CATEGORY']) \ndataset['PURCHASE_TYPE']= label_encoder.fit_transform(dataset['PURCHASE_TYPE']) \ndataset['SUPPORT_CHANNEL']=label_encoder.fit_transform(dataset['SUPPORT_CHANNEL'])\ndataset['GENDER']=label_encoder.fit_transform(dataset['GENDER'])\ndataset['ACQUISITION_CHANNEL']=label_encoder.fit_transform(dataset['ACQUISITION_CHANNEL'])\n",
   "execution_count": null
  },
  {
   "cell_type": "code",
   "id": "c2b31528-7a50-4b9e-b708-1abfa2adbb83",
   "metadata": {
    "language": "python",
    "name": "cell8",
    "collapsed": false
   },
   "outputs": [],
   "source": "#Text pre-processing\nimport re\nimport string\nfrom textblob import TextBlob\nstrings=dataset['COMMENTS']\nl=[]\ndef text_clean(text):\n    text=text.lower()\n    text=re.sub('\\[.*?\\]','',text)\n    text=re.sub('[%s]'% re.escape(string.punctuation),'',text)\n    text=re.sub('\\w*\\d\\w*','',text)\n    return text\nfor i in strings:\n    s=text_clean(i)\n    l.append(s)\ndataset['COMMENTS']=l\ndataset['COMMENTS']\n\n\nComment=[]\nfor i in dataset['COMMENTS']:\n    blob = TextBlob(i)\n    Comment.append(blob.sentiment.polarity)\ndataset['COMMENTS']=Comment\ndataset['COMMENTS']",
   "execution_count": null
  },
  {
   "cell_type": "code",
   "id": "ed1d9281-aea0-4e56-a7df-63c018fa2b0e",
   "metadata": {
    "language": "python",
    "name": "cell9",
    "collapsed": false
   },
   "outputs": [],
   "source": "dataset['NUM_PURCHASES'].value_counts()\n#l=list(map(lambda x : x if x > 0 else 8.447307608191855, dataset['NUM_PURCHASES']))\n#dataset['NUM_PURCHASES']=l\np_25=dataset['NUM_PURCHASES'].quantile(0.25)\np_75=dataset['NUM_PURCHASES'].quantile(0.75)\niqr=p_75-p_25\nupper_limit=1.5*iqr+p_75\nlower_limit=p_25-1.5*iqr\nprint(\"UPPER LIMIT=\",upper_limit)\nprint(\"LOWER_LIMIT\",lower_limit)\n\n#dataset['NUM_PURCHASES']=np.where(dataset['NUM_PURCHASES']>upper_limit,upper_limit,\n#                                  np.where(dataset['NUM_PURCHASES']<lower_limit,lower_limit,\n#                                          dataset['NUM_PURCHASES'])\n#)\ndataset = dataset[(dataset['NUM_PURCHASES'] >= lower_limit) & (dataset['NUM_PURCHASES'] <= upper_limit)]\n",
   "execution_count": null
  },
  {
   "cell_type": "code",
   "id": "abb56188-b2d3-49fa-ad47-98be857a4d1b",
   "metadata": {
    "language": "python",
    "name": "cell15",
    "collapsed": false
   },
   "outputs": [],
   "source": "lower_INCOME=dataset['INCOME'].quantile(0.25)\nupper_INCOME=dataset['INCOME'].quantile(0.75)\niqr1=upper_INCOME-lower_INCOME\nlower_limit2=lower_INCOME-iqr1*1.5\nupper_limit2=upper_INCOME+iqr1*1.5\n#dataset['INCOME']=np.where(dataset['INCOME']>upper_INCOME,upper_INCOME,\n#                            np.where(dataset['INCOME']<lower_INCOME,lower_INCOME,\n#                                           dataset['INCOME']))\ndataset = dataset[(dataset['INCOME'] >= lower_limit2) & (dataset['INCOME'] <= upper_limit2)]\n",
   "execution_count": null
  },
  {
   "cell_type": "code",
   "id": "47cfc6f0-99c6-4222-9675-7089495ca338",
   "metadata": {
    "language": "python",
    "name": "cell10",
    "collapsed": false
   },
   "outputs": [],
   "source": "lower_IN=dataset['INTERACTION_FREQUENCY'].quantile(0.25)\nupper_IN=dataset['INTERACTION_FREQUENCY'].quantile(0.75)\niqr1=upper_IN-lower_IN\nlower_li=lower_IN-iqr1*1.5\nupper_li=upper_IN+iqr1*1.5\n#dataset['INTERACTION_FREQUENCY']=np.where(dataset['INTERACTION_FREQUENCY']>upper_li,upper_li,\n#                            np.where(dataset['INTERACTION_FREQUENCY']<lower_li,lower_li,\n#                                           dataset['INTERACTION_FREQUENCY'])\n#                                 )\ndataset = dataset[(dataset['INTERACTION_FREQUENCY'] >= lower_li) & (dataset['INTERACTION_FREQUENCY'] <= upper_li)]\n",
   "execution_count": null
  },
  {
   "cell_type": "code",
   "id": "7d26f44a-ef86-4ace-a083-1362117f0249",
   "metadata": {
    "language": "python",
    "name": "cell12",
    "collapsed": false
   },
   "outputs": [],
   "source": "l=dataset['USAGE_FREQUENCY'].quantile(0.25)\nu=dataset['USAGE_FREQUENCY'].quantile(0.75)\niqr1=u-l\nlow=l-iqr1*1.5\nup=u+iqr1*1.5\n#dataset['USAGE_FREQUENCY']=np.where(dataset['USAGE_FREQUENCY']>up,up,\n#np.where(dataset['USAGE_FREQUENCY']<low,low,\n#dataset['USAGE_FREQUENCY'])\n#)\ndataset = dataset[(dataset['USAGE_FREQUENCY'] >= low) & (dataset['USAGE_FREQUENCY'] <= up)]\n\n",
   "execution_count": null
  },
  {
   "cell_type": "code",
   "id": "8cb85109-522f-4a8b-a60d-0b8c38c0926e",
   "metadata": {
    "language": "python",
    "name": "cell13"
   },
   "outputs": [],
   "source": "l=dataset['AVG_PURCHASE_VALUE'].quantile(0.25)\nu=dataset['AVG_PURCHASE_VALUE'].quantile(0.75)\niqr1=u-l\nlow=l-iqr1*1.5\nup=u+iqr1*1.5\n#dataset['AVG_PURCHASE_VALUE']=np.where(dataset['AVG_PURCHASE_VALUE']>up,up,\n#np.where(dataset['AVG_PURCHASE_VALUE']<low,low,\n#dataset['AVG_PURCHASE_VALUE'])\n#)\ndataset = dataset[(dataset['AVG_PURCHASE_VALUE'] >= low) & (dataset['AVG_PURCHASE_VALUE'] <= up)]\n",
   "execution_count": null
  },
  {
   "cell_type": "code",
   "id": "960b2213-0564-44e1-b2ce-0db6429a2db5",
   "metadata": {
    "language": "python",
    "name": "cell14"
   },
   "outputs": [],
   "source": "l=dataset['ONLINE_ACTIVITY'].quantile(0.25)\nu=dataset['ONLINE_ACTIVITY'].quantile(0.75)\niqr1=u-l\nlow=l-iqr1*1.5\nup=u+iqr1*1.5\n#dataset['ONLINE_ACTIVITY']=np.where(dataset['ONLINE_ACTIVITY']>up,up,\n#np.where(dataset['ONLINE_ACTIVITY']<low,low,\n#dataset['ONLINE_ACTIVITY'])\n#)\ndataset = dataset[(dataset['ONLINE_ACTIVITY'] >= low) & (dataset['ONLINE_ACTIVITY'] <= up)]",
   "execution_count": null
  },
  {
   "cell_type": "code",
   "id": "49ad84b4-28f3-42dd-8ca0-a24a4bee7997",
   "metadata": {
    "language": "python",
    "name": "cell11",
    "collapsed": false
   },
   "outputs": [],
   "source": "l1=dataset['CUSTOMER_SERVICE_INTERACTIONS'].quantile(0.25)\nh1=dataset['CUSTOMER_SERVICE_INTERACTIONS'].quantile(0.75)\niqr=h1-l1\nlow1=l1-iqr*1.5\nhigh1=h1+iqr*1.5\nprint(low1)\nprint(high1)\n#dataset['CUSTOMER_SERVICE_INTERACTIONS']=np.where(dataset['CUSTOMER_SERVICE_INTERACTIONS']>h1,h1,\n#np.where(dataset['CUSTOMER_SERVICE_INTERACTIONS']<l1,l1,\n#dataset['CUSTOMER_SERVICE_INTERACTIONS']))\ndataset = dataset[(dataset['CUSTOMER_SERVICE_INTERACTIONS'] >= low1) & (dataset['CUSTOMER_SERVICE_INTERACTIONS'] <= high1)]",
   "execution_count": null
  },
  {
   "cell_type": "code",
   "id": "3b5f7606-727d-4405-9b2a-9adabd23409b",
   "metadata": {
    "language": "python",
    "name": "cell16"
   },
   "outputs": [],
   "source": "lower_25=dataset['DISCOUNTS_RECEIVED'].quantile(0.25)\nupper_75=dataset['DISCOUNTS_RECEIVED'].quantile(0.75)\niqr=upper_75-lower_25\nlower_limit1=lower_25-iqr*1.5\nupper_limit1=upper_75+iqr*1.5\n#dataset['DISCOUNTS_RECEIVED']=np.where(dataset['DISCOUNTS_RECEIVED']>upper_limit1,upper_limit1,\n#                           np.where(dataset['DISCOUNTS_RECEIVED']<lower_limit1,lower_limit1,\n#                                           dataset['DISCOUNTS_RECEIVED'])\n#                                )\ndataset = dataset[(dataset['DISCOUNTS_RECEIVED'] >= lower_limit1) & (dataset['DISCOUNTS_RECEIVED'] <= upper_limit1)]",
   "execution_count": null
  },
  {
   "cell_type": "code",
   "id": "18aa73c3-06d8-4aee-8d86-729b35037a45",
   "metadata": {
    "language": "python",
    "name": "cell17",
    "collapsed": false
   },
   "outputs": [],
   "source": "dataset.drop('RESPONDENT',inplace=True,axis=1)\ndataset.drop('LOCATION',inplace=True,axis=1)",
   "execution_count": null
  },
  {
   "cell_type": "code",
   "id": "ce85dc0d-735f-4278-b359-fc28654b2d2c",
   "metadata": {
    "language": "python",
    "name": "cell18",
    "collapsed": false
   },
   "outputs": [],
   "source": "current_date=pd.Timestamp.now()\ndataset['REGISTRATION_DATE']=pd.to_datetime(dataset['REGISTRATION_DATE'])\ndataset['LAST_PURCHASE_DATE']=pd.to_datetime(dataset['LAST_PURCHASE_DATE'])\ndataset['TENURE']=(current_date-dataset['REGISTRATION_DATE']).dt.days\ndataset['RECENT']=(current_date-dataset['LAST_PURCHASE_DATE']).dt.days\n",
   "execution_count": null
  },
  {
   "cell_type": "code",
   "id": "1f63b3a3-35bd-444d-9024-1846bad7554f",
   "metadata": {
    "language": "python",
    "name": "cell19",
    "collapsed": false
   },
   "outputs": [],
   "source": "dataset.drop(['REGISTRATION_DATE', 'LAST_PURCHASE_DATE'], axis=1, inplace=True)",
   "execution_count": null
  },
  {
   "cell_type": "code",
   "id": "ffa6d43e-9d0e-4a92-95a7-c450dea87a78",
   "metadata": {
    "language": "python",
    "name": "cell20",
    "collapsed": false
   },
   "outputs": [],
   "source": "dataset=dataset[(dataset['AGE'] >= 21) & (dataset['AGE'] <= 60)]",
   "execution_count": null
  },
  {
   "cell_type": "code",
   "id": "0fe71869-cac6-4971-bc68-0d7812b951b8",
   "metadata": {
    "language": "python",
    "name": "cell21",
    "collapsed": false
   },
   "outputs": [],
   "source": "dataset['NPS_CATEGORY'].replace(to_replace=['Passive','Detractor','Promoter'],value=[0,1,2],inplace=True)",
   "execution_count": null
  },
  {
   "cell_type": "code",
   "id": "c6ea6593-d910-4f9f-bcd4-ddc96d1ad2e5",
   "metadata": {
    "language": "python",
    "name": "cell26",
    "collapsed": false
   },
   "outputs": [],
   "source": "lower_25=dataset['RECENT'].quantile(0.25)\nupper_75=dataset['RECENT'].quantile(0.75)\niqr=upper_75-lower_25\nlower_limit1=lower_25-iqr*1.5\nupper_limit1=upper_75+iqr*1.5\n#dataset['DISCOUNTS_RECEIVED']=np.where(dataset['DISCOUNTS_RECEIVED']>upper_limit1,upper_limit1,\n#                           np.where(dataset['DISCOUNTS_RECEIVED']<lower_limit1,lower_limit1,\n#                                           dataset['DISCOUNTS_RECEIVED'])\n#                                )\ndataset = dataset[(dataset['RECENT'] >= lower_limit1) & (dataset['RECENT'] <= upper_limit1)]",
   "execution_count": null
  },
  {
   "cell_type": "code",
   "id": "1f6aa1f9-ec6e-4dda-928d-49f3360e5fcc",
   "metadata": {
    "language": "python",
    "name": "cell22"
   },
   "outputs": [],
   "source": "lower_25=dataset['TENURE'].quantile(0.25)\nupper_75=dataset['TENURE'].quantile(0.75)\niqr=upper_75-lower_25\nlower_limit1=lower_25-iqr*1.5\nupper_limit1=upper_75+iqr*1.5\n#dataset['DISCOUNTS_RECEIVED']=np.where(dataset['DISCOUNTS_RECEIVED']>upper_limit1,upper_limit1,\n#                           np.where(dataset['DISCOUNTS_RECEIVED']<lower_limit1,lower_limit1,\n#                                           dataset['DISCOUNTS_RECEIVED'])\n#                                )\ndataset = dataset[(dataset['TENURE'] >= lower_limit1) & (dataset['TENURE'] <= upper_limit1)]",
   "execution_count": null
  },
  {
   "cell_type": "code",
   "id": "fbaa5948-6c96-4e4b-9922-92a76413fb6e",
   "metadata": {
    "language": "python",
    "name": "cell24",
    "collapsed": false
   },
   "outputs": [],
   "source": "dataset.drop('COMMENTS',axis=1,inplace=True)\ndataset['NPS_CATEGORY']=dataset['NPS_CATEGORY'].astype(int)\nmask = dataset.lt(0).any(axis=1)\n\n# Filter out rows with any negative value\ndataset= dataset[~mask]",
   "execution_count": null
  },
  {
   "cell_type": "code",
   "id": "df1e93a5-35fd-4baa-a79d-996b805f6c23",
   "metadata": {
    "language": "python",
    "name": "cell28",
    "collapsed": false
   },
   "outputs": [],
   "source": "dataset.shape",
   "execution_count": null
  },
  {
   "cell_type": "code",
   "id": "58031ad9-f7fb-46a4-a457-cdb6c8b6cbde",
   "metadata": {
    "language": "python",
    "name": "cell27",
    "collapsed": false
   },
   "outputs": [],
   "source": "from sklearn.preprocessing import StandardScaler\ny=dataset['NPS_CATEGORY']\ndataset.drop('NPS_CATEGORY',inplace=True,axis=1)\nscaler=StandardScaler()\nx=dataset\nscaled_x=scaler.fit_transform(x)\nx_scale=pd.DataFrame(scaled_x,columns=x.columns)\nx_scale.head()",
   "execution_count": null
  },
  {
   "cell_type": "code",
   "id": "bc01bd9f-414a-4abc-b8cb-8e96fe9c6b6e",
   "metadata": {
    "language": "python",
    "name": "cell25",
    "collapsed": false
   },
   "outputs": [],
   "source": "from sklearn.ensemble import ExtraTreesClassifier\nm=ExtraTreesClassifier()\nordered_rank=m.fit(x_scale,y)\nrank=pd.Series(m.feature_importances_,index=x_scale.columns)\nrank.nlargest(10).plot(kind=\"bar\")\nplt.show()",
   "execution_count": null
  },
  {
   "cell_type": "code",
   "id": "ae02adb3-80ec-4295-b162-860a3b95fb03",
   "metadata": {
    "language": "python",
    "name": "cell29",
    "collapsed": false
   },
   "outputs": [],
   "source": "from sklearn.model_selection import train_test_split\nX=x_scale[['RESPONSE_TIME','INCOME','NUM_PURCHASES','AGE','AVG_PURCHASE_VALUE','RECENT']]\nX_train, X_test, y_train, y_test = train_test_split(X, y, random_state=42)",
   "execution_count": null
  },
  {
   "cell_type": "code",
   "id": "2d2040fc-be2c-40df-b7a0-0cdfb7da6875",
   "metadata": {
    "language": "python",
    "name": "cell31",
    "collapsed": false
   },
   "outputs": [],
   "source": "from sklearn.model_selection import GridSearchCV\nfrom sklearn.model_selection import RandomizedSearchCV\nimport xgboost\nparams={\n    \"learning_rate\":[0.05,0.10,0.15,0.20,0.25,0.30],\n    \"max_depth\":[3,4,5,6,8,10,12,15],\n    \"min_child_weight\":[1,3,5,7],\n    \"gamma\":[130,50,40,100],\n    \"colsample_bytree\":[0.3,0.4,0.5,0.6,0.7]\n}\nclassifier=xgboost.XGBClassifier()\nrandom_search1=RandomizedSearchCV(classifier,param_distributions=params,n_iter=50,scoring=\"accuracy\",n_jobs=1,cv=5,verbose=2)\nrandom_search1.fit(X_train, y_train)\n",
   "execution_count": null
  },
  {
   "cell_type": "code",
   "id": "a6d4d6d2-0c92-497d-a08c-3a79a4c9afe8",
   "metadata": {
    "language": "python",
    "name": "cell32",
    "collapsed": false
   },
   "outputs": [],
   "source": "random_search1.best_params_",
   "execution_count": null
  },
  {
   "cell_type": "code",
   "id": "c0673fa1-7310-4d96-87fa-4976e03e5eec",
   "metadata": {
    "language": "python",
    "name": "cell33",
    "collapsed": false
   },
   "outputs": [],
   "source": "cf=xgboost.XGBClassifier(min_child_weight=7,max_depth=4,learning_rate=0.15,eta=0.1,gamma=100,colsample_bytree=0.5)",
   "execution_count": null
  },
  {
   "cell_type": "code",
   "id": "fed8324c-64b8-429a-9913-1db079c0e84c",
   "metadata": {
    "language": "python",
    "name": "cell23",
    "collapsed": false
   },
   "outputs": [],
   "source": "best_model = random_search1.best_estimator_\naccuracy = best_model.score(X_test, y_test)\nprint(\"Accuracy on test set:\", accuracy)",
   "execution_count": null
  }
 ]
}