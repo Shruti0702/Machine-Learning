{
 "metadata": {
  "kernelspec": {
   "display_name": "Streamlit Notebook",
   "name": "streamlit"
  }
 },
 "nbformat_minor": 5,
 "nbformat": 4,
 "cells": [
  {
   "cell_type": "code",
   "id": "3775908f-ca36-4846-8f38-5adca39217f2",
   "metadata": {
    "language": "python",
    "name": "cell1",
    "collapsed": false
   },
   "source": "# Import python packages\nimport streamlit as st\nimport pandas as pd\nimport numpy as np\nimport matplotlib.pyplot as plt\nimport seaborn as sns\nimport sklearn\n\n# We can also use Snowpark for our analyses!\nfrom snowflake.snowpark.context import get_active_session\nsession = get_active_session()\n",
   "execution_count": null,
   "outputs": []
  },
  {
   "cell_type": "code",
   "id": "8d50cbf4-0c8d-4950-86cb-114990437ac9",
   "metadata": {
    "language": "sql",
    "name": "cell2",
    "collapsed": false
   },
   "source": "select * from NPS_SCORE.NPS_SCORE.NPS_SCORE;",
   "execution_count": null,
   "outputs": []
  },
  {
   "cell_type": "code",
   "id": "c695373e-ac74-4b62-a1f1-08206cbd5c81",
   "metadata": {
    "language": "python",
    "name": "cell3",
    "collapsed": false
   },
   "source": "df=session.table(\"NPS_SCORE.NPS_SCORE.NPS_SCORE\")\ndf",
   "execution_count": null,
   "outputs": []
  },
  {
   "cell_type": "code",
   "id": "2e0f6e9c-b72a-4ac8-a248-962c5f6cfa3f",
   "metadata": {
    "language": "python",
    "name": "cell4",
    "collapsed": false
   },
   "outputs": [],
   "source": "dataset=df.to_pandas()",
   "execution_count": null
  },
  {
   "cell_type": "markdown",
   "id": "deb1f100-455b-41c4-b097-28fe5c22637b",
   "metadata": {
    "name": "cell5",
    "collapsed": false
   },
   "source": "DESCRIBING THE DATASET"
  },
  {
   "cell_type": "code",
   "id": "8edcda97-b6ce-4a4d-af04-f488cd5a821d",
   "metadata": {
    "language": "python",
    "name": "cell6",
    "collapsed": false
   },
   "outputs": [],
   "source": "dataset.describe()",
   "execution_count": null
  },
  {
   "cell_type": "markdown",
   "id": "313de1b2-5710-465c-90cc-1c084ea5166d",
   "metadata": {
    "name": "cell7",
    "collapsed": false
   },
   "source": "'''from above we can conclude that there are null-values present in age and income' and some negative values are also there in NUM_PURCHASES column which can't be negative."
  },
  {
   "cell_type": "code",
   "id": "7ed1b1b4-e52a-4cf5-bfbc-327e839b8efe",
   "metadata": {
    "language": "python",
    "name": "cell8",
    "collapsed": false
   },
   "outputs": [],
   "source": "dataset.info()",
   "execution_count": null
  },
  {
   "cell_type": "code",
   "id": "d81fb029-444f-4d77-9749-15971e53318d",
   "metadata": {
    "language": "python",
    "name": "cell9",
    "collapsed": false
   },
   "outputs": [],
   "source": "#first removing the null values present in  AGE ,INCOME,REGISTRATION_DATE,LAST_PURCHASE_DATE\ndataset['AGE'].isnull().sum()\ndataset['AGE'].value_counts()\ndataset['AGE'].fillna(64,inplace=True)\ndataset['INCOME'].isnull().sum()\ndataset['INCOME'].value_counts()\ndataset['INCOME'].fillna(60608.54,inplace=True)\ndataset['REGISTRATION_DATE'].fillna(method='ffill',inplace=True)\ndataset['LAST_PURCHASE_DATE'].fillna(method='ffill',inplace=True)",
   "execution_count": null
  },
  {
   "cell_type": "code",
   "id": "e537c021-d7f0-4a88-8ce7-1e0b4ae10400",
   "metadata": {
    "language": "python",
    "name": "cell10",
    "collapsed": false
   },
   "outputs": [],
   "source": "dataset.isnull().sum()",
   "execution_count": null
  },
  {
   "cell_type": "code",
   "id": "ba6c424f-8618-4c79-9d1a-6ee044833993",
   "metadata": {
    "language": "python",
    "name": "cell11",
    "collapsed": false
   },
   "outputs": [],
   "source": "#now removing the null values in NUM_PURCHASES column\n#checking the number of negative values present\nc=0\nfor i in dataset['NUM_PURCHASES']:\n    if i<0:\n        c+=1\nprint(c)\n#306\n#removing the negative values present with plotting it first\nsns.histplot(x=dataset['NUM_PURCHASES'],bins=int(np.sqrt(len(dataset))))\nprint(max(dataset['NUM_PURCHASES']))",
   "execution_count": null
  },
  {
   "cell_type": "code",
   "id": "2dbc3dd2-8fe8-4d4b-a715-84a448de80f6",
   "metadata": {
    "language": "python",
    "name": "cell12",
    "collapsed": false
   },
   "outputs": [],
   "source": "sns.boxplot(x=dataset['NUM_PURCHASES'],y=dataset['NPS_CATEGORY'])",
   "execution_count": null
  },
  {
   "cell_type": "markdown",
   "id": "7ae27004-87d2-4da3-a8d4-75d47eeb04d2",
   "metadata": {
    "name": "cell13",
    "collapsed": false
   },
   "source": "by analysis the above plot i can say the NUM_PURCHASES has a lot of outliers,maybe because of the negative values present in it."
  },
  {
   "cell_type": "code",
   "id": "e5ddc76e-b895-43d3-b318-c79244a1644e",
   "metadata": {
    "language": "python",
    "name": "cell15",
    "collapsed": false
   },
   "outputs": [],
   "source": "dataset['NUM_PURCHASES'].value_counts()\n#l=list(map(lambda x : x if x > 0 else 8.447307608191855, dataset['NUM_PURCHASES']))\n#dataset['NUM_PURCHASES']=l\np_25=dataset['NUM_PURCHASES'].quantile(0.25)\np_75=dataset['NUM_PURCHASES'].quantile(0.75)\niqr=p_75-p_25",
   "execution_count": null
  },
  {
   "cell_type": "code",
   "id": "a61799cd-6256-4286-8113-6c06f2e003c3",
   "metadata": {
    "language": "python",
    "name": "cell17",
    "collapsed": false
   },
   "outputs": [],
   "source": "upper_limit=1.5*iqr+p_75\nlower_limit=p_25-1.5*iqr\nprint(\"UPPER LIMIT=\",upper_limit)\nprint(\"LOWER_LIMIT\",lower_limit)\ndataset['NUM_PURCHASES']=np.where(dataset['NUM_PURCHASES']>upper_limit,upper_limit,\n                                  np.where(dataset['NUM_PURCHASES']<lower_limit,lower_limit,\n                                           dataset['NUM_PURCHASES'])\n                                 )",
   "execution_count": null
  },
  {
   "cell_type": "code",
   "id": "94d6cdd0-8b1a-4b5a-a8d6-cce632b1c642",
   "metadata": {
    "language": "python",
    "name": "cell14",
    "collapsed": false,
    "codeCollapsed": false
   },
   "outputs": [],
   "source": "sns.boxplot(x=dataset['NUM_PURCHASES'],y=dataset['NPS_CATEGORY'])",
   "execution_count": null
  },
  {
   "cell_type": "markdown",
   "id": "684a1862-bbc3-43b0-8482-3ab4a1558230",
   "metadata": {
    "name": "cell18",
    "collapsed": false
   },
   "source": "ENCODING THE CATEGORIES TO NUMERICAL COLUMNS"
  },
  {
   "cell_type": "code",
   "id": "070a0561-7833-4903-a2c0-4ad10f315b22",
   "metadata": {
    "language": "python",
    "name": "cell16",
    "collapsed": false
   },
   "outputs": [],
   "source": "from sklearn import preprocessing \nlabel_encoder = preprocessing.LabelEncoder()\ndataset['PRODUCT_NAME']= label_encoder.fit_transform(dataset['PRODUCT_NAME']) \ndataset['PRODUCT_CATEGORY']= label_encoder.fit_transform(dataset['PRODUCT_CATEGORY']) \ndataset['PURCHASE_TYPE']= label_encoder.fit_transform(dataset['PURCHASE_TYPE']) \ndataset['SUPPORT_CHANNEL']=label_encoder.fit_transform(dataset['SUPPORT_CHANNEL'])\ndataset['GENDER']=label_encoder.fit_transform(dataset['GENDER'])\ndataset['ACQUISITION_CHANNEL']=label_encoder.fit_transform(dataset['ACQUISITION_CHANNEL'])",
   "execution_count": null
  },
  {
   "cell_type": "code",
   "id": "8081f950-840b-47a6-b3fd-090bfec4c6ce",
   "metadata": {
    "language": "python",
    "name": "cell20",
    "collapsed": false
   },
   "outputs": [],
   "source": "for label, c in enumerate(label_encoder.classes_):\n    print(f\"{c} -> {label}\")",
   "execution_count": null
  },
  {
   "cell_type": "code",
   "id": "fe144efc-2222-49b5-915d-7627aa6f8e63",
   "metadata": {
    "language": "python",
    "name": "cell19",
    "collapsed": false
   },
   "outputs": [],
   "source": "sns.countplot(x='GENDER', hue='NPS_CATEGORY',data=dataset)",
   "execution_count": null
  },
  {
   "cell_type": "code",
   "id": "3cdc95d9-83c6-4844-a32d-a64f8a2f6826",
   "metadata": {
    "language": "python",
    "name": "cell21",
    "collapsed": false
   },
   "outputs": [],
   "source": "sns.countplot(x='ACQUISITION_CHANNEL', hue='NPS_CATEGORY',data=dataset)",
   "execution_count": null
  },
  {
   "cell_type": "markdown",
   "id": "90aca5f0-01f5-47fa-abb7-7d648d176dd3",
   "metadata": {
    "name": "cell22",
    "collapsed": false
   },
   "source": "CONVERTING THE COMMENT COLUMN INTO THE CATEGORY OF POSITIVE,NEUTRAL OR NEGATIVE REVIEW BY PERFORMING SENTIMENT ANALYSIS"
  },
  {
   "cell_type": "code",
   "id": "29b5d2a9-ddd6-436f-997a-442f818fcae4",
   "metadata": {
    "language": "python",
    "name": "cell23",
    "collapsed": false
   },
   "outputs": [],
   "source": "#Text pre-processing\nimport re\nimport string\nstrings=dataset['COMMENTS']\nl=[]\ndef text_clean(text):\n    text=text.lower()\n    text=re.sub('\\[.*?\\]','',text)\n    text=re.sub('[%s]'% re.escape(string.punctuation),'',text)\n    text=re.sub('\\w*\\d\\w*','',text)\n    return text\nfor i in strings:\n    s=text_clean(i)\n    l.append(s)\ndataset['COMMENTS']=l\ndataset['COMMENTS']",
   "execution_count": null
  },
  {
   "cell_type": "code",
   "id": "8c265226-e7ec-4ce4-b63d-dc4e46b4efe2",
   "metadata": {
    "language": "python",
    "name": "cell24",
    "collapsed": false
   },
   "outputs": [],
   "source": "from textblob import TextBlob\nComment=[]\nfor i in dataset['COMMENTS']:\n    blob = TextBlob(i)\n    Comment.append(blob.sentiment.polarity)\ndataset['COMMENTS']=Comment\ndataset['COMMENTS']",
   "execution_count": null
  },
  {
   "cell_type": "code",
   "id": "1be97563-4378-4636-b077-a876331c156e",
   "metadata": {
    "language": "python",
    "name": "cell25",
    "collapsed": false
   },
   "outputs": [],
   "source": "sns.scatterplot(x=dataset['COMMENTS'],y=dataset['NPS_SCORE'])",
   "execution_count": null
  },
  {
   "cell_type": "markdown",
   "id": "14ac60cd-ced0-4fac-bc77-9f49fa73a3c5",
   "metadata": {
    "name": "cell26",
    "collapsed": false
   },
   "source": "'''Those who are having above sentiment polarity of 0 are assigned as detractors and who are having below value i.e. less than 0 '''"
  },
  {
   "cell_type": "code",
   "id": "554b40d9-a002-447d-b31c-702373920044",
   "metadata": {
    "language": "python",
    "name": "cell27",
    "collapsed": false
   },
   "outputs": [],
   "source": "dataset.drop(['LOCATION','REGISTRATION_DATE','LAST_PURCHASE_DATE'],axis=1,inplace=True)",
   "execution_count": null
  },
  {
   "cell_type": "code",
   "id": "06de4d0e-ba1b-43ff-a91f-699ef350db90",
   "metadata": {
    "language": "python",
    "name": "cell28",
    "collapsed": false
   },
   "outputs": [],
   "source": "sns.countplot(x=dataset['REFERRAL_ACTIVITY'],hue=dataset['NPS_CATEGORY'])",
   "execution_count": null
  },
  {
   "cell_type": "code",
   "id": "978bb5ed-7f13-4eb4-b1af-4c7b5d750d64",
   "metadata": {
    "language": "python",
    "name": "cell29",
    "collapsed": false
   },
   "outputs": [],
   "source": "dataset['RESPONDENT'].value_counts()",
   "execution_count": null
  },
  {
   "cell_type": "code",
   "id": "b0b473fd-98ee-419e-a436-8aa271f2c1ce",
   "metadata": {
    "language": "python",
    "name": "cell30",
    "collapsed": false
   },
   "outputs": [],
   "source": "dataset['REFERRAL_ACTIVITY'].value_counts()",
   "execution_count": null
  },
  {
   "cell_type": "code",
   "id": "e81955fb-cf59-4397-b33b-4690ed3061d7",
   "metadata": {
    "language": "python",
    "name": "cell31",
    "collapsed": false
   },
   "outputs": [],
   "source": "sns.boxplot(x=dataset['DISCOUNTS_RECEIVED'],y=dataset['NPS_CATEGORY'])",
   "execution_count": null
  },
  {
   "cell_type": "code",
   "id": "c07cc8a0-ad6b-4c7d-b839-16e8e0927205",
   "metadata": {
    "language": "python",
    "name": "cell32",
    "collapsed": false
   },
   "outputs": [],
   "source": "lower_25=dataset['DISCOUNTS_RECEIVED'].quantile(0.25)\nupper_75=dataset['DISCOUNTS_RECEIVED'].quantile(0.75)\niqr=upper_75-lower_25\nlower_limit1=lower_25-iqr*1.5\nupper_limit1=upper_75+iqr*1.5\ndataset['DISCOUNTS_RECEIVED']=np.where(dataset['DISCOUNTS_RECEIVED']>upper_limit1,upper_limit1,\n                            np.where(dataset['DISCOUNTS_RECEIVED']<lower_limit1,lower_limit1,\n                                           dataset['DISCOUNTS_RECEIVED'])\n                                 )",
   "execution_count": null
  },
  {
   "cell_type": "code",
   "id": "6ba3d3c6-4e6c-4f0b-8ae3-655e39c4a37f",
   "metadata": {
    "language": "python",
    "name": "cell33",
    "collapsed": false
   },
   "outputs": [],
   "source": "sns.boxplot(x=dataset['DISCOUNTS_RECEIVED'],y=dataset['NPS_CATEGORY'])",
   "execution_count": null
  },
  {
   "cell_type": "code",
   "id": "f2344eee-deeb-4366-b133-68cd1a5f0d80",
   "metadata": {
    "language": "python",
    "name": "cell34",
    "collapsed": false
   },
   "outputs": [],
   "source": "sns.boxplot(x=dataset['INCOME'],y=dataset['NPS_CATEGORY'])",
   "execution_count": null
  },
  {
   "cell_type": "code",
   "id": "ce665796-bc5b-4fb2-a5f0-1ec2ef725bb1",
   "metadata": {
    "language": "python",
    "name": "cell35",
    "collapsed": false
   },
   "outputs": [],
   "source": "lower_INCOME=dataset['INCOME'].quantile(0.25)\nupper_INCOME=dataset['INCOME'].quantile(0.75)\niqr1=upper_INCOME-lower_INCOME\nlower_limit2=lower_INCOME-iqr1*1.5\nupper_limit2=upper_INCOME+iqr1*1.5\ndataset['INCOME']=np.where(dataset['INCOME']>upper_INCOME,upper_INCOME,\n                            np.where(dataset['INCOME']<lower_INCOME,lower_INCOME,\n                                           dataset['INCOME'])\n                                 )",
   "execution_count": null
  },
  {
   "cell_type": "code",
   "id": "85856b9c-3417-4579-b9db-d74a29e7d130",
   "metadata": {
    "language": "python",
    "name": "cell36",
    "collapsed": false
   },
   "outputs": [],
   "source": "sns.boxplot(x=dataset['INCOME'],y=dataset['NPS_CATEGORY'])",
   "execution_count": null
  },
  {
   "cell_type": "code",
   "id": "823550d4-950e-418b-8311-fc1833f24c5e",
   "metadata": {
    "language": "python",
    "name": "cell37",
    "collapsed": false
   },
   "outputs": [],
   "source": "sns.boxplot(x=dataset['RESPONSE_TIME'],y=dataset['NPS_CATEGORY'])",
   "execution_count": null
  },
  {
   "cell_type": "code",
   "id": "690eef97-2345-4688-92b9-8d1b41c46b05",
   "metadata": {
    "language": "python",
    "name": "cell38",
    "collapsed": false
   },
   "outputs": [],
   "source": "dataset.drop('RESPONSE_TIME',axis=1,inplace=True)",
   "execution_count": null
  },
  {
   "cell_type": "code",
   "id": "062595e6-d5de-46cd-9e1e-e7a5db58c756",
   "metadata": {
    "language": "python",
    "name": "cell39",
    "collapsed": false
   },
   "outputs": [],
   "source": "sns.boxplot(x=dataset['INTERACTION_FREQUENCY'],y=dataset['NPS_CATEGORY'])",
   "execution_count": null
  },
  {
   "cell_type": "code",
   "id": "504bfee7-75f9-4bea-bc64-1c8439d72231",
   "metadata": {
    "language": "python",
    "name": "cell40",
    "collapsed": false
   },
   "outputs": [],
   "source": "lower_IN=dataset['INTERACTION_FREQUENCY'].quantile(0.25)\nupper_IN=dataset['INTERACTION_FREQUENCY'].quantile(0.75)\niqr1=upper_IN-lower_IN\nlower_li=lower_IN-iqr1*1.5\nupper_li=upper_IN+iqr1*1.5\ndataset['INTERACTION_FREQUENCY']=np.where(dataset['INTERACTION_FREQUENCY']>upper_li,upper_li,\n                            np.where(dataset['INTERACTION_FREQUENCY']<lower_li,lower_li,\n                                           dataset['INTERACTION_FREQUENCY'])\n                                 )\nlower_li",
   "execution_count": null
  },
  {
   "cell_type": "code",
   "id": "4f919243-28f1-4a54-a918-5bd216ae5125",
   "metadata": {
    "language": "python",
    "name": "cell41",
    "collapsed": false
   },
   "outputs": [],
   "source": "sns.boxplot(x=dataset['INTERACTION_FREQUENCY'],y=dataset['NPS_CATEGORY'])",
   "execution_count": null
  },
  {
   "cell_type": "code",
   "id": "a57e53e5-09da-4a39-ac0d-d4afa4c81640",
   "metadata": {
    "language": "python",
    "name": "cell42",
    "collapsed": false
   },
   "outputs": [],
   "source": "sns.boxplot(x=dataset['CUSTOMER_SERVICE_INTERACTIONS'],y=dataset['NPS_CATEGORY'])",
   "execution_count": null
  },
  {
   "cell_type": "code",
   "id": "337d212b-7d96-4df1-9dcf-04036b486cfe",
   "metadata": {
    "language": "python",
    "name": "cell43",
    "collapsed": false
   },
   "outputs": [],
   "source": "lower_cs=dataset['CUSTOMER_SERVICE_INTERACTIONS'].quantile(0.25)\nupper_cs=dataset['CUSTOMER_SERVICE_INTERACTIONS'].quantile(0.75)\niqr1=upper_cs-lower_cs\nlower_cs=lower_cs-iqr1*1.5\nupper_cs=upper_cs+iqr1*1.5\ndataset['CUSTOMER_SERVICE_INTERACTIONS']=np.where(dataset['CUSTOMER_SERVICE_INTERACTIONS']>upper_cs,upper_cs,\n                            np.where(dataset['CUSTOMER_SERVICE_INTERACTIONS']<lower_cs,lower_cs,\n                                           dataset['CUSTOMER_SERVICE_INTERACTIONS'])\n                                 )\nlower_cs",
   "execution_count": null
  },
  {
   "cell_type": "code",
   "id": "89b25977-6dc9-4108-b1d7-64da48a06484",
   "metadata": {
    "language": "python",
    "name": "cell44",
    "collapsed": false
   },
   "outputs": [],
   "source": "sns.boxplot(x=dataset['CUSTOMER_SERVICE_INTERACTIONS'],y=dataset['NPS_CATEGORY'])",
   "execution_count": null
  },
  {
   "cell_type": "code",
   "id": "031f08fb-f7c4-4d98-86c3-0e6e48673f39",
   "metadata": {
    "language": "python",
    "name": "cell45",
    "collapsed": false
   },
   "outputs": [],
   "source": "sns.boxplot(x=dataset['USAGE_FREQUENCY'],y=dataset['NPS_CATEGORY'])",
   "execution_count": null
  },
  {
   "cell_type": "code",
   "id": "4c9a4d9f-a3ae-434e-b090-e04f24ba1f61",
   "metadata": {
    "language": "python",
    "name": "cell46",
    "collapsed": false
   },
   "outputs": [],
   "source": "l=dataset['USAGE_FREQUENCY'].quantile(0.25)\nu=dataset['USAGE_FREQUENCY'].quantile(0.75)\niqr1=u-l\nlow=l-iqr1*1.5\nup=u+iqr1*1.5\ndataset['USAGE_FREQUENCY']=np.where(dataset['USAGE_FREQUENCY']>up,up,\n                            np.where(dataset['USAGE_FREQUENCY']<low,low,\n                                           dataset['USAGE_FREQUENCY'])\n                                 )\nlow",
   "execution_count": null
  },
  {
   "cell_type": "code",
   "id": "d57493dc-5df7-4125-a6e3-e844fca5b89c",
   "metadata": {
    "language": "python",
    "name": "cell47",
    "collapsed": false
   },
   "outputs": [],
   "source": "sns.boxplot(x=dataset['USAGE_FREQUENCY'],y=dataset['NPS_CATEGORY'])",
   "execution_count": null
  },
  {
   "cell_type": "code",
   "id": "25fca3b5-0bab-4cfc-870b-f7bf26806c89",
   "metadata": {
    "language": "python",
    "name": "cell48",
    "collapsed": false
   },
   "outputs": [],
   "source": "sns.boxplot(x=dataset['AVG_PURCHASE_VALUE'],y=dataset['NPS_CATEGORY'])",
   "execution_count": null
  },
  {
   "cell_type": "code",
   "id": "cc9b0d82-e0a7-4100-975a-aae4f9be3678",
   "metadata": {
    "language": "python",
    "name": "cell49",
    "collapsed": false
   },
   "outputs": [],
   "source": "l=dataset['AVG_PURCHASE_VALUE'].quantile(0.25)\nu=dataset['AVG_PURCHASE_VALUE'].quantile(0.75)\niqr1=u-l\nlow=l-iqr1*1.5\nup=u+iqr1*1.5\ndataset['AVG_PURCHASE_VALUE']=np.where(dataset['AVG_PURCHASE_VALUE']>up,up,\n                            np.where(dataset['AVG_PURCHASE_VALUE']<low,low,\n                                           dataset['AVG_PURCHASE_VALUE'])\n                                 )\nlow",
   "execution_count": null
  },
  {
   "cell_type": "code",
   "id": "5b54c8d5-f7c6-4673-b379-d12a8e560bae",
   "metadata": {
    "language": "python",
    "name": "cell50",
    "collapsed": false
   },
   "outputs": [],
   "source": "sns.boxplot(x=dataset['AVG_PURCHASE_VALUE'],y=dataset['NPS_CATEGORY'])",
   "execution_count": null
  },
  {
   "cell_type": "code",
   "id": "d052a9cf-ba0b-4506-bd37-aea1e1511932",
   "metadata": {
    "language": "python",
    "name": "cell51",
    "collapsed": false
   },
   "outputs": [],
   "source": "sns.countplot(x=dataset['ACQUISITION_CHANNEL'],hue=dataset['NPS_CATEGORY'])",
   "execution_count": null
  },
  {
   "cell_type": "code",
   "id": "72b5e614-415c-43b2-bbf8-8fb429702df5",
   "metadata": {
    "language": "python",
    "name": "cell52",
    "collapsed": false
   },
   "outputs": [],
   "source": "sns.boxplot(x=dataset['ONLINE_ACTIVITY'],y=dataset['NPS_CATEGORY'])",
   "execution_count": null
  },
  {
   "cell_type": "code",
   "id": "7a293c43-efef-4666-bb79-442cb7acf388",
   "metadata": {
    "language": "python",
    "name": "cell53",
    "collapsed": false
   },
   "outputs": [],
   "source": "l=dataset['ONLINE_ACTIVITY'].quantile(0.25)\nu=dataset['ONLINE_ACTIVITY'].quantile(0.75)\niqr1=u-l\nlow=l-iqr1*1.5\nup=u+iqr1*1.5\ndataset['ONLINE_ACTIVITY']=np.where(dataset['ONLINE_ACTIVITY']>up,up,\n                            np.where(dataset['ONLINE_ACTIVITY']<low,low,\n                                           dataset['ONLINE_ACTIVITY'])\n                                 )\nlow",
   "execution_count": null
  },
  {
   "cell_type": "code",
   "id": "80b137c9-a095-4bb4-9ed3-e90a7a47cc5c",
   "metadata": {
    "language": "python",
    "name": "cell54",
    "collapsed": false
   },
   "outputs": [],
   "source": "sns.boxplot(x=dataset['ONLINE_ACTIVITY'],y=dataset['NPS_CATEGORY'])",
   "execution_count": null
  },
  {
   "cell_type": "code",
   "id": "72e6832c-e7b0-4a67-acb1-80f0690d8415",
   "metadata": {
    "language": "python",
    "name": "cell55",
    "collapsed": false
   },
   "outputs": [],
   "source": "sns.countplot(x=dataset['MARKETING_ENGAGEMENT'],hue=dataset['NPS_CATEGORY'])",
   "execution_count": null
  },
  {
   "cell_type": "code",
   "id": "8d0eb2f9-06b1-47cf-a9c0-07385c712824",
   "metadata": {
    "language": "python",
    "name": "cell56",
    "collapsed": false,
    "codeCollapsed": false
   },
   "outputs": [],
   "source": "from sklearn.preprocessing import RobustScaler\nx=da\nscaler=StandardScaler()\nscaled_x=scaler.fit_transform(x)",
   "execution_count": null
  },
  {
   "cell_type": "code",
   "id": "76d3cc6f-2760-41ee-9ec7-b30466d3402b",
   "metadata": {
    "language": "python",
    "name": "cell57",
    "collapsed": false
   },
   "outputs": [],
   "source": "x_scale=pd.DataFrame(scaled_x)\nx_scale.head()",
   "execution_count": null
  },
  {
   "cell_type": "code",
   "id": "16ff2bf7-1e96-422c-a8a3-7d4f693c0c29",
   "metadata": {
    "language": "python",
    "name": "cell59",
    "collapsed": false
   },
   "outputs": [],
   "source": "y=dataset['NPS_CATEGORY']",
   "execution_count": null
  },
  {
   "cell_type": "code",
   "id": "5ab5bf3b-a086-42e7-a49f-0ef07d4eac55",
   "metadata": {
    "language": "python",
    "name": "cell58",
    "collapsed": false
   },
   "outputs": [],
   "source": "from sklearn.feature_selection import SelectKBest\nfrom sklearn.feature_selection import chi2\nordered_rank=SelectKBest(score_func=chi2)\nordered_feature=ordered_rank.fit(x,y)\nordered_feature",
   "execution_count": null
  }
 ]
}